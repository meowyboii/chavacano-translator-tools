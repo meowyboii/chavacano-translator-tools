{
 "cells": [
  {
   "cell_type": "code",
   "execution_count": null,
   "id": "12db09b9-7cfb-4f29-9943-bf2b734fb845",
   "metadata": {},
   "outputs": [],
   "source": [
    "import torch\n",
    "\n",
    "print(\"CUDA Available:\", torch.cuda.is_available())\n",
    "print(\"GPU Name:\", torch.cuda.get_device_name(0) if torch.cuda.is_available() else \"No GPU detected\")\n",
    "print(\"Current Device:\", torch.cuda.current_device() if torch.cuda.is_available() else \"CPU\")\n",
    "\n",
    "torch.cuda.empty_cache()\n",
    "torch.device(\"cuda\")"
   ]
  },
  {
   "cell_type": "code",
   "execution_count": null,
   "id": "15af426a-f48d-4775-8790-833686f4e8b8",
   "metadata": {},
   "outputs": [],
   "source": [
    "from transformers import AutoTokenizer, AutoModelForSeq2SeqLM\n",
    "from datasets import load_dataset\n",
    "\n",
    "# Define the source and target languages\n",
    "SRC_LANG = \"en_XX\"  # Source language (English)\n",
    "TGT_LANG = \"chv_XX\"  # Target language (Chavacano)\n",
    "\n",
    "device = \"cuda\" if torch.cuda.is_available() else \"cpu\"\n",
    "\n",
    "# Load tokenizer and model\n",
    "model_name = \"facebook/mbart-large-50-many-to-many-mmt\"\n",
    "tokenizer = AutoTokenizer.from_pretrained(model_name, src_lang=SRC_LANG, tgt_lang=TGT_LANG)\n",
    "\n",
    "model = AutoModelForSeq2SeqLM.from_pretrained(model_name).to(device)\n",
    "    \n",
    "# Load training and validation datasets\n",
    "dataset = load_dataset(\"csv\", data_files={\"train\": \"train1.csv\", \"validation\": \"validation1.csv\"}, encoding='latin-1')\n",
    "\n",
    "# Tokenization function\n",
    "def preprocess_function(examples):\n",
    "    inputs = [ex + \" </s>\" for ex in examples[\"source\"]]\n",
    "    targets = [ex + \" </s>\" for ex in examples[\"target\"]]\n",
    "\n",
    "    model_inputs = tokenizer(inputs, text_target=targets, max_length=128, truncation=True, padding=\"max_length\").to(device)\n",
    "\n",
    "    return model_inputs\n",
    "\n",
    "# Preprocess dataset\n",
    "tokenized_datasets = dataset.map(preprocess_function, batched=True)\n",
    "print (tokenized_datasets)"
   ]
  },
  {
   "cell_type": "code",
   "execution_count": null,
   "id": "74d0ca27-64b2-41c9-b4d0-6bfc0be20aea",
   "metadata": {},
   "outputs": [],
   "source": [
    "from transformers import TrainingArguments, Trainer, EarlyStoppingCallback\n",
    "\n",
    "#Training arguments\n",
    "training_args = TrainingArguments(\n",
    "    output_dir=\"./mbart_finetuned_2e-4_16\",\n",
    "    logging_dir=\"./logs\",\n",
    "    per_device_train_batch_size=16,\n",
    "    per_device_eval_batch_size=16,\n",
    "    gradient_accumulation_steps=4,\n",
    "    num_train_epochs=10,  \n",
    "    learning_rate=2e-4,  \n",
    "    warmup_steps=500,\n",
    "    weight_decay=0.01,\n",
    "    adam_epsilon=1e-8,\n",
    "    max_grad_norm=1.0,\n",
    "    save_strategy=\"epoch\",\n",
    "    save_total_limit=2,\n",
    "    logging_strategy=\"epoch\",\n",
    "    logging_steps=100,\n",
    "    fp16=True if torch.cuda.is_available() else False,\n",
    "    eval_strategy=\"epoch\",\n",
    "    metric_for_best_model=\"eval_loss\",\n",
    "    load_best_model_at_end=True,\n",
    ")\n",
    " \n",
    "trainer = Trainer(\n",
    "    model=model,\n",
    "    args=training_args,\n",
    "    train_dataset=tokenized_datasets[\"train\"], \n",
    "    eval_dataset=tokenized_datasets[\"validation\"],\n",
    "    callbacks=[EarlyStoppingCallback(early_stopping_patience=1)],\n",
    "    processing_class=tokenizer,\n",
    ")\n",
    "trainer.train()\n"
   ]
  }
 ],
 "metadata": {
  "kernelspec": {
   "display_name": "Python 3 (ipykernel)",
   "language": "python",
   "name": "python3"
  },
  "language_info": {
   "codemirror_mode": {
    "name": "ipython",
    "version": 3
   },
   "file_extension": ".py",
   "mimetype": "text/x-python",
   "name": "python",
   "nbconvert_exporter": "python",
   "pygments_lexer": "ipython3",
   "version": "3.12.5"
  }
 },
 "nbformat": 4,
 "nbformat_minor": 5
}
