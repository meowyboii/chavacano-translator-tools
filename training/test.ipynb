{
 "cells": [
  {
   "cell_type": "code",
   "execution_count": 1,
   "id": "e8becbbe-77d9-4159-8d8e-f3160a2ba117",
   "metadata": {
    "scrolled": true
   },
   "outputs": [],
   "source": [
    "import torch\n",
    "from transformers import AutoTokenizer, AutoModelForSeq2SeqLM\n",
    "\n",
    "model_path = \"./mbart_finetuned_2e-4_16/checkpoint-326\"\n",
    "\n",
    "# Load the fine-tuned model and tokenizer\n",
    "tokenizer = AutoTokenizer.from_pretrained(model_path)\n",
    "model = AutoModelForSeq2SeqLM.from_pretrained(model_path).to(\"cuda\")\n",
    "\n",
    "def translate(text):\n",
    "    inputs = tokenizer(text, return_tensors=\"pt\").to(\"cuda\")\n",
    "    outputs = model.generate(**inputs, num_beams=5, forced_bos_token_id=tokenizer.convert_tokens_to_ids(\"<chv_XX>\"))\n",
    "    translated_text = tokenizer.decode(outputs[0], skip_special_tokens=True)\n",
    "    return translated_text\n"
   ]
  },
  {
   "cell_type": "code",
   "execution_count": null,
   "id": "92a2be28-5978-4a7f-9544-0ad71b94d476",
   "metadata": {
    "scrolled": true
   },
   "outputs": [],
   "source": [
    "import pandas as pd\n",
    "import sacrebleu\n",
    "\n",
    "# Load and read test data\n",
    "test_file = \"test1.csv\"\n",
    "df = pd.read_csv(test_file, encoding=\"latin1\")\n",
    "\n",
    "hypotheses = []\n",
    "references = []\n",
    "\n",
    "for index, row in df.iterrows():\n",
    "    try:\n",
    "        source_text = row['source']\n",
    "        target_text = row['target']\n",
    "\n",
    "        generated_text = translate(source_text) \n",
    "\n",
    "        print(\"Input: \", source_text)\n",
    "        print(\"Translation: \", generated_text)\n",
    "\n",
    "        hypotheses.append(generated_text)  \n",
    "        references.append(target_text) \n",
    "\n",
    "    except Exception as e:\n",
    "        print(f\"Error generating translation for row {index}: {e}\")\n",
    "        continue\n",
    "\n",
    "# Calculate sacreBLEU score\n",
    "bleu_score = sacrebleu.corpus_bleu(hypotheses, [references]) # references needs to be a list of lists"
   ]
  },
  {
   "cell_type": "code",
   "execution_count": null,
   "id": "a1ad7bc6-be75-4dfc-adbf-2ad8119abf9e",
   "metadata": {},
   "outputs": [],
   "source": [
    "print(f\"BLEU score: {bleu_score}\")"
   ]
  },
  {
   "cell_type": "code",
   "execution_count": null,
   "id": "52c223d3-018f-494b-9ef2-71ede4bd2f46",
   "metadata": {
    "scrolled": true
   },
   "outputs": [],
   "source": [
    "from transformers import pipeline\n",
    "import pandas as pd\n",
    "import sacrebleu\n",
    "\n",
    "#Load model\n",
    "translator = pipeline('translation', model='./helsinki_finetuned_1e-4_16/checkpoint-574')\n",
    "\n",
    "#Load and read test data\n",
    "test_file = \"validation1.csv\"\n",
    "df = pd.read_csv(test_file, encoding = \"latin1\")\n",
    "\n",
    "hypotheses = []\n",
    "references = []\n",
    "\n",
    "for index, row in df.iterrows():\n",
    "    try:\n",
    "        source_text = row['source']\n",
    "        target_text = row['target']\n",
    "\n",
    "        generated_text = translator(source_text)\n",
    "        generated_text = generated_text[0].get('translation_text')\n",
    "\n",
    "        print(\"Input: \", source_text)\n",
    "        print(\"Translation: \", generated_text)\n",
    "\n",
    "        hypotheses.append(generated_text) \n",
    "        references.append(target_text)  \n",
    "\n",
    "    except Exception as e:\n",
    "        print(f\"Error generating translation for row {index}: {e}\")\n",
    "        continue\n",
    "\n",
    "# Calculate sacreBLEU score\n",
    "bleu_score = sacrebleu.corpus_bleu(hypotheses, [references]) # references needs to be a list of lists"
   ]
  },
  {
   "cell_type": "code",
   "execution_count": null,
   "id": "34b2662b-4da1-430b-ad60-4eac22bd7383",
   "metadata": {},
   "outputs": [],
   "source": [
    "print(f\"BLEU score: {bleu_score}\")"
   ]
  }
 ],
 "metadata": {
  "kernelspec": {
   "display_name": "Python 3 (ipykernel)",
   "language": "python",
   "name": "python3"
  },
  "language_info": {
   "codemirror_mode": {
    "name": "ipython",
    "version": 3
   },
   "file_extension": ".py",
   "mimetype": "text/x-python",
   "name": "python",
   "nbconvert_exporter": "python",
   "pygments_lexer": "ipython3",
   "version": "3.12.5"
  }
 },
 "nbformat": 4,
 "nbformat_minor": 5
}
