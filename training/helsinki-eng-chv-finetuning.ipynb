{
 "cells": [
  {
   "cell_type": "code",
   "execution_count": 1,
   "id": "086b9046-a92e-4db5-90da-93b6684dd46e",
   "metadata": {},
   "outputs": [],
   "source": [
    "import transformers\n",
    "import torch\n",
    "from transformers import AutoTokenizer, AutoModelForSeq2SeqLM, TrainingArguments, Trainer, EarlyStoppingCallback\n",
    "from datasets import load_dataset\n",
    "\n",
    "dataset = load_dataset(\"csv\", data_files={\"train\": \"train1.csv\", \"validation\": \"validation1.csv\"}, encoding='latin-1')\n",
    "\n",
    "model_name = \"Helsinki-NLP/opus-mt-en-es\"\n",
    "tokenizer = AutoTokenizer.from_pretrained(model_name)\n",
    "model = AutoModelForSeq2SeqLM.from_pretrained(model_name)\n",
    "\n",
    "def preprocess_function(examples):\n",
    "    inputs = [ex + f\" </s>\" for ex in examples[\"source\"]]\n",
    "    targets = [ex + f\" </s>\" for ex in examples[\"target\"]]\n",
    "\n",
    "    model_inputs = tokenizer(inputs, max_length=128, truncation=True, padding=\"max_length\")\n",
    "    labels = tokenizer(targets, max_length=128, truncation=True, padding=\"max_length\")\n",
    "\n",
    "    model_inputs[\"labels\"] = labels[\"input_ids\"]\n",
    "    \n",
    "    return model_inputs\n",
    "\n",
    "# Preprocess dataset\n",
    "tokenized_datasets = dataset.map(preprocess_function, batched=True)\n"
   ]
  },
  {
   "cell_type": "code",
   "execution_count": null,
   "id": "528e132e-6849-4dce-b585-b4843ead49e4",
   "metadata": {},
   "outputs": [],
   "source": [
    "#Training arguments\n",
    "training_args = TrainingArguments(\n",
    "    output_dir=\"./helsinki_finetuned_2e-4_16\",\n",
    "    logging_dir=\"./logs\",\n",
    "    per_device_train_batch_size=16,\n",
    "    per_device_eval_batch_size=16,\n",
    "    gradient_accumulation_steps=4,\n",
    "    num_train_epochs=30,  \n",
    "    learning_rate=2e-4,  \n",
    "    warmup_steps=500,\n",
    "    weight_decay=0.01,\n",
    "    adam_epsilon=1e-8,\n",
    "    max_grad_norm=1.0,\n",
    "    save_strategy=\"epoch\",\n",
    "    save_total_limit=2,\n",
    "    logging_strategy=\"epoch\",\n",
    "    logging_steps=100,\n",
    "    fp16=True if torch.cuda.is_available() else False,\n",
    "    eval_strategy=\"epoch\",\n",
    "    metric_for_best_model=\"eval_loss\",\n",
    "    load_best_model_at_end=True,\n",
    "    resume_from_checkpoint = True,\n",
    ")\n",
    "\n",
    "# Create the Trainer and train the model\n",
    "trainer = Trainer(\n",
    "    model=model,\n",
    "    args=training_args,\n",
    "    train_dataset=tokenized_datasets[\"train\"],  \n",
    "    eval_dataset=tokenized_datasets[\"validation\"],\n",
    "    callbacks=[EarlyStoppingCallback(early_stopping_patience=1)],\n",
    "    processing_class=tokenizer,\n",
    ")\n",
    "\n",
    "trainer.train()\n"
   ]
  },
  {
   "cell_type": "code",
   "execution_count": null,
   "id": "f6589d40-f1b4-43b6-9a91-07987768b3ea",
   "metadata": {},
   "outputs": [],
   "source": [
    "# Example of using the model for inference:\n",
    "from transformers import pipeline\n",
    "\n",
    "translator = pipeline('translation_en_to_es', model='./helsinki_finetuned_5e-5_16/checkpoint-902', tokenizer=tokenizer)\n",
    "\n",
    "text = \"What is the name of your store?\"\n",
    "\n",
    "translated_text = translator(text)\n",
    "translated_text = translated_text[0].get('translation_text')\n",
    "print(translated_text)\n"
   ]
  }
 ],
 "metadata": {
  "kernelspec": {
   "display_name": "Python 3 (ipykernel)",
   "language": "python",
   "name": "python3"
  },
  "language_info": {
   "codemirror_mode": {
    "name": "ipython",
    "version": 3
   },
   "file_extension": ".py",
   "mimetype": "text/x-python",
   "name": "python",
   "nbconvert_exporter": "python",
   "pygments_lexer": "ipython3",
   "version": "3.12.5"
  }
 },
 "nbformat": 4,
 "nbformat_minor": 5
}
